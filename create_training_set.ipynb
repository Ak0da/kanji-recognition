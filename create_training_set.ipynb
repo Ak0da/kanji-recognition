{
 "cells": [
  {
   "cell_type": "code",
   "execution_count": 2,
   "id": "558a972e-fca0-46b1-b85c-9f1d821cb0f9",
   "metadata": {},
   "outputs": [],
   "source": [
    "import PIL\n",
    "import math\n",
    "from PIL import Image\n",
    "from PIL import ImageDraw\n",
    "from PIL import ImageFont\n",
    "\n",
    "import csv\n",
    "import pathlib\n",
    "from os import listdir\n",
    "from os.path import isfile, join"
   ]
  },
  {
   "cell_type": "code",
   "execution_count": 3,
   "id": "5adb0482-2390-4f75-b3ac-a4f041eb9a67",
   "metadata": {},
   "outputs": [],
   "source": [
    "#image1 = Image.new(mode='L', size = (64,64), color=255)\n",
    "\n",
    "\n",
    "#draw = ImageDraw.Draw(image1)\n",
    "#font = ImageFont.truetype(\"meiryo.ttc\", 50)\n",
    "#font = ImageFont.truetype(\"yumin.ttf\", 50)\n",
    "#font = ImageFont.truetype(\"YuGothM.ttc\", 50)\n",
    "#font = ImageFont.truetype(\"msmincho.ttc\", 50)\n",
    "\n",
    "#draw.text((0, 0), ,(0))\n",
    "#draw.text((5, 5),u\"魔\",(0), font=font)\n",
    "#image1.show()"
   ]
  },
  {
   "cell_type": "code",
   "execution_count": 4,
   "id": "af804d83-3ded-443f-aad1-35b09b45f40c",
   "metadata": {},
   "outputs": [],
   "source": [
    "def createImage(pixelSize=64,symbol=u\"魔\",key=-1):\n",
    "    image1 = Image.new(mode='L', size = (pixelSize,pixelSize), color=255)\n",
    "    draw = ImageDraw.Draw(image1)\n",
    "    \n",
    "    \n",
    "    fontSize = math.ceil(pixelSize*0.78)\n",
    "    fontOffsetX = math.floor(pixelSize*0.22/2)\n",
    "    fontOffsetY = math.floor(pixelSize*0.22/4)\n",
    "    fonts = [\n",
    "        ImageFont.truetype(\"meiryo.ttc\", fontSize),\n",
    "        ImageFont.truetype(\"yumin.ttf\", fontSize),\n",
    "        ImageFont.truetype(\"YuGothM.ttc\", fontSize),\n",
    "        ImageFont.truetype(\"msmincho.ttc\", fontSize)\n",
    "    ]\n",
    "    \n",
    "    for font in fonts:\n",
    "        draw.text((fontOffsetX, fontOffsetY),symbol,(0), font=font)\n",
    "        filename = u\"./Training_set/\"+str(key) +\"_\"+ symbol +\"_\"+ font.getname()[0] +\"_\"+ font.getname()[1]\n",
    "        image1.save(filename+\".jpg\")\n",
    "        \n",
    "        draw.rectangle((0,0,pixelSize,pixelSize), 255)\n",
    "    \n",
    "#createImage(pixelSize=40,symbole=u\"魔\",key=0)\n",
    "\n",
    "def sortValue(item):\n",
    "    return item[1]\n",
    "\n",
    "num2jap_dict = {}\n",
    "jap2num_dict = {}\n",
    "with open('memrise_rtk_kanji.csv', encoding='utf-8', mode='r') as infile:\n",
    "    reader = csv.reader(infile)\n",
    "    \n",
    "    jap2num_dict = {rows[0]:int(rows[1]) for rows in reader}\n",
    "    jap_list = list(jap2num_dict.items())\n",
    "    jap_list.sort(key=sortValue)\n",
    "    \n",
    "    for index in range(len(jap_list)):\n",
    "        symbol = jap_list[index][0]\n",
    "        key = index+1\n",
    "        createImage(pixelSize=40,symbol=symbol,key=key)\n",
    "        #print(symbol + \" \" + str(key))\n",
    "   \n",
    "        \n",
    "mypath = pathlib.Path().resolve()\n",
    "picturesNames = [f for f in listdir(mypath) if isfile(join(mypath, f))]"
   ]
  },
  {
   "cell_type": "code",
   "execution_count": null,
   "id": "a93027b1-08d7-47a1-a6a2-bf09c5ae0e64",
   "metadata": {},
   "outputs": [],
   "source": []
  }
 ],
 "metadata": {
  "kernelspec": {
   "display_name": "Python 3 (ipykernel)",
   "language": "python",
   "name": "python3"
  },
  "language_info": {
   "codemirror_mode": {
    "name": "ipython",
    "version": 3
   },
   "file_extension": ".py",
   "mimetype": "text/x-python",
   "name": "python",
   "nbconvert_exporter": "python",
   "pygments_lexer": "ipython3",
   "version": "3.9.10"
  }
 },
 "nbformat": 4,
 "nbformat_minor": 5
}
