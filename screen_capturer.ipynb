{
 "cells": [
  {
   "cell_type": "code",
   "execution_count": 13,
   "id": "e939efe8-72e7-4cd7-86d2-b8f033c24291",
   "metadata": {},
   "outputs": [],
   "source": [
    "import win32api\n",
    "import win32con\n",
    "import win32gui\n",
    "import time\n",
    "import torch\n",
    "from torchvision import transforms\n",
    "from kanji_detection_model import kanji_detector\n",
    "import json\n",
    "\n",
    "\n",
    "from PIL import ImageGrab, Image\n",
    "\n",
    "#for testing purposes\n",
    "import pathlib\n",
    "from os import listdir\n",
    "from os.path import isfile, join\n",
    "import random\n",
    "import math"
   ]
  },
  {
   "cell_type": "code",
   "execution_count": 14,
   "id": "297e17b1-37d9-44c9-96ab-beb51592db37",
   "metadata": {},
   "outputs": [
    {
     "data": {
      "text/plain": [
       "<All keys matched successfully>"
      ]
     },
     "execution_count": 14,
     "metadata": {},
     "output_type": "execute_result"
    }
   ],
   "source": [
    "num2kanji_dict = {}\n",
    "with open('num2kanji_dict.json', 'r') as f:\n",
    "  num2kanji_dict = json.load(f)\n",
    "\n",
    "\n",
    "device = \"cuda\" if torch.cuda.is_available() else \"cpu\"\n",
    "#detectionModel = torch.load('./Models/kanji_model_96_1.pt', map_location=torch.device('cpu'))\n",
    "detectionModel = kanji_detector().to(device=device)\n",
    "detectionModel.load_state_dict(torch.load('./Models/kanji_model_98_1.pth'))"
   ]
  },
  {
   "cell_type": "code",
   "execution_count": 16,
   "id": "1f4b1374-d4aa-4a0d-9297-0edcd2b07456",
   "metadata": {},
   "outputs": [],
   "source": [
    "def identifySymbol(image: Image, top_k: int = 5):\n",
    "    convert_tensor = transforms.Compose([\n",
    "        transforms.Grayscale(),\n",
    "        transforms.Resize(64),\n",
    "        transforms.ToTensor()\n",
    "    ])\n",
    "    \n",
    "    with torch.no_grad():\n",
    "        tensor_image = convert_tensor(image)\n",
    "        activeModel = detectionModel.to(device=device)\n",
    "        activeModel.eval()\n",
    "        result = activeModel(tensor_image.unsqueeze(0).to(device=device))\n",
    "        _,most_likely_indices = result.squeeze().topk(k=top_k,dim=0)\n",
    "        selections = (most_likely_indices+1).tolist()\n",
    "        kanjis = [num2kanji_dict[str(k)] for k in selections]\n",
    "        print(kanjis)\n",
    "        \n",
    "        del activeModel\n",
    "        del tensor_image\n",
    "    "
   ]
  },
  {
   "cell_type": "code",
   "execution_count": null,
   "id": "caea1db4-5362-4d20-a400-93b4cd8fb1d4",
   "metadata": {},
   "outputs": [
    {
     "name": "stdout",
     "output_type": "stream",
     "text": [
      "['的', '以', '冶', '丑', '腺', '煎', '切', '欧', '認', '内']\n",
      "['句', '彰', '遠', '塗', '拷', '唯', '議', '歳', '新', '炭']\n",
      "['乾', '泌', '笠', '三', '遠', '交', '芯', '堂', '公', '映']\n",
      "['乱', '格', '七', '桐', '策', '照', '丙', '歳', '記', '寸']\n",
      "['乱', '議', '遠', '盲', '認', '幸', '彰', '格', '弦', '泌']\n",
      "['託', '笠', '欲', '侯', '零', '酵', '究', '脇', '喪', '表']\n",
      "['議', '彰', '厚', '遠', '乾', '泌', '乱', '菌', '考', '荒']\n",
      "['乱', '格', '議', '遠', '策', '販', '互', '針', '姿', '代']\n",
      "['乾', '遠', '議', '泌', '四', '厚', '乱', '菌', '寛', '芯']\n",
      "['乱', '彰', '議', '認', '盲', '厚', '遠', '幸', '泌', '唯']\n",
      "['新', '句', '賄', '認', '飽', '唯', '詣', '穏', '房', '崖']\n",
      "['田', '畑', '句', '舶', '好', '善', '取', '柵', '存', '銘']\n",
      "['財', '牧', '茨', '洗', '興', '柔', '整', '詳', '嗅', '資']\n",
      "['財', '柔', '女', '壌', '夜', '茨', '看', '埼', '泉', '麻']\n",
      "['勺', '肌', '漆', '伺', '勧', '布', '軍', '智', '頃', '幸']\n"
     ]
    }
   ],
   "source": [
    "def isPressed(key) -> bool:\n",
    "    return (win32api.GetKeyState(key) & ~1) != 0 # Left button down = 0 or 1. Button up = -127 or -128\n",
    "\n",
    "capture_size = 40\n",
    "half_capture_size = capture_size//2\n",
    "\n",
    "state_left = isPressed(win32con.VK_LBUTTON)\n",
    "state_ctrl = isPressed(win32con.VK_CONTROL)\n",
    "\n",
    "while True:\n",
    "    a = isPressed(win32con.VK_LBUTTON)\n",
    "    state_ctrl = isPressed(win32con.VK_CONTROL)\n",
    "    \n",
    "    if a != state_left: # Button state changed\n",
    "        state_left = a\n",
    "            \n",
    "        if a and state_ctrl:\n",
    "            isHolding = True\n",
    "            posClick = win32gui.GetCursorPos()\n",
    "            rect = (posClick[0]-half_capture_size, \n",
    "                    posClick[1]-half_capture_size,\n",
    "                    posClick[0]+half_capture_size,\n",
    "                    posClick[1]+half_capture_size)\n",
    "            pic = ImageGrab.grab(bbox=rect)\n",
    "            identifySymbol(pic, top_k=10)\n",
    "            #print('Left Button Pressed')\n",
    "                "
   ]
  },
  {
   "cell_type": "code",
   "execution_count": null,
   "id": "a9614cdf-b802-49c2-aaef-0882a60bcb9f",
   "metadata": {},
   "outputs": [],
   "source": []
  },
  {
   "cell_type": "code",
   "execution_count": 5,
   "id": "dd64b903-b2c7-4094-b798-099e81030348",
   "metadata": {},
   "outputs": [],
   "source": [
    "trainingPath = pathlib.Path().resolve() / \"Training_set\"\n",
    "picturesNames = [f for f in listdir(trainingPath) if isfile(join(trainingPath, f))]\n",
    "\n",
    "dictNames = {name:{'number':int(name.split('_')[0]) , 'symbol':name.split('_')[1]} for name in picturesNames}\n",
    "tempDictNames = dictNames.copy()\n",
    "\n",
    "image_size=64\n",
    "nb_symbols=2199\n",
    "#print(dictNames[picturesNames[0]])\n",
    "\n",
    "def selectBatches(dictNames, tempDictNames, batch_size) -> list:\n",
    "    batch=[]\n",
    "    while len(batch) < batch_size:\n",
    "        n_to_find = batch_size-len(batch)\n",
    "        if len(tempDictNames) >= n_to_find:\n",
    "            sample = random.sample(list(tempDictNames.items()), n_to_find)\n",
    "            batch.extend(sample)\n",
    "            for item in sample:\n",
    "                del tempDictNames[item[0]]\n",
    "        else:\n",
    "            batch.extend(tempDictNames.items())\n",
    "            tempDictNames = dictNames.copy()\n",
    "\n",
    "    return batch\n",
    "\n",
    "def getAnswerIndices(batchList) -> torch.FloatTensor:\n",
    "    \n",
    "    correctAnswer = torch.zeros((len(batchList),nb_symbols)).float()\n",
    "    correctAnswerIndices = torch.zeros(len(batchList)).long()\n",
    "    \n",
    "    for i in range(len(batchList)):\n",
    "        indexCorrect = batchList[i][1]['number']-1\n",
    "        correctAnswer[i][indexCorrect] = 1\n",
    "        correctAnswerIndices[i] = indexCorrect\n",
    "    \n",
    "    \n",
    "    return correctAnswer, correctAnswerIndices\n",
    "\n",
    "def countCorrect(answer: torch.FloatTensor, correctAnswer: torch.FloatTensor):\n",
    "    \n",
    "    \n",
    "    _,indicesAnswer = torch.max(answer, dim=1)\n",
    "    _,indicesCorrect = torch.max(correctAnswer, dim=1)\n",
    "    \n",
    "    #print(indicesAnswer)\n",
    "    #print(indicesCorrect)\n",
    "    numCorrect = (indicesAnswer == indicesCorrect).long().sum()\n",
    "    \n",
    "    return numCorrect.item()\n",
    "    \n",
    "def getPictures(batchList) -> torch.FloatTensor:\n",
    "    \n",
    "    images = torch.zeros((len(batchList), 1, image_size, image_size)).float()\n",
    "    convert_tensor = transforms.Compose([\n",
    "        transforms.Grayscale(),\n",
    "        transforms.Resize(image_size),\n",
    "        transforms.ToTensor()\n",
    "    ])\n",
    "    \n",
    "    for i in range(len(batchList)):\n",
    "        item = batchList[i]\n",
    "        filename = item[0]\n",
    "        img = Image.open(trainingPath / filename)\n",
    "        images[i,:,:,:] = convert_tensor(img)\n",
    "        \n",
    "    return images"
   ]
  },
  {
   "cell_type": "code",
   "execution_count": 6,
   "id": "9354cfbf-a569-4e96-8d81-275423595b74",
   "metadata": {},
   "outputs": [],
   "source": [
    "def eval(model, n_epoch, batch_size):\n",
    "    n_batches = 1\n",
    "    \n",
    "    with torch.no_grad():\n",
    "\n",
    "        model.eval()\n",
    "        loss_f = torch.nn.CrossEntropyLoss()\n",
    "        best_percent = 0\n",
    "        for epoch in range(n_epoch):\n",
    "            #print(\"Epoch \" + str(epoch+1) + \" is running\")\n",
    "            n_correct = 0\n",
    "            n_total = n_batches*batch_size\n",
    "            for i in range(n_batches):\n",
    "\n",
    "                batch = selectBatches(dictNames, tempDictNames, batch_size)\n",
    "                images = getPictures(batch)\n",
    "                correct_answer, correct_answer_indices = getAnswerIndices(batch)\n",
    "\n",
    "                answer = model(images.to(device=device))\n",
    "                loss = loss_f(answer,correct_answer_indices.to(device=device)).cpu()\n",
    "\n",
    "                print(answer)\n",
    "                n_correct += countCorrect(answer, correct_answer.to(device=device))\n",
    "\n",
    "            adjust = 10000\n",
    "            percent = math.floor(adjust*100*n_correct/n_total)/adjust\n",
    "            best_percent = percent if percent > best_percent else best_percent\n",
    "            print(\"Epoch \" + str(epoch+1) +\" evaluation accuracy : \" + str(percent) + \"%\\n\")\n",
    "        \n",
    "    return best_percent"
   ]
  },
  {
   "cell_type": "code",
   "execution_count": 7,
   "id": "43fea649-c3b1-4d30-828d-d0f29973ef3a",
   "metadata": {},
   "outputs": [
    {
     "name": "stdout",
     "output_type": "stream",
     "text": [
      "tensor([[-3.7491, -2.7350, -3.2033,  ..., -3.8105, -3.3552, -2.9861],\n",
      "        [-2.9835, -2.7410, -3.6033,  ..., -3.2384, -2.8220, -2.2905],\n",
      "        [-3.8220, -2.8390, -4.6016,  ..., -3.8309, -3.0583, -2.7301],\n",
      "        ...,\n",
      "        [-3.5030, -2.5716, -2.9183,  ..., -3.5637, -3.3498, -2.9802],\n",
      "        [-3.4549, -2.2524, -2.9277,  ..., -3.3852, -3.1757, -3.4982],\n",
      "        [-3.6615, -3.1105, -2.6145,  ..., -3.4711, -3.3693, -2.9698]],\n",
      "       device='cuda:0')\n",
      "Epoch 1 evaluation accuracy : 7.0%\n",
      "\n"
     ]
    },
    {
     "data": {
      "text/plain": [
       "7.0"
      ]
     },
     "execution_count": 7,
     "metadata": {},
     "output_type": "execute_result"
    }
   ],
   "source": [
    "eval(detectionModel,1,100)"
   ]
  },
  {
   "cell_type": "code",
   "execution_count": null,
   "id": "d9ca0557-bcb0-4ce1-91e2-71cf2c6912b1",
   "metadata": {},
   "outputs": [],
   "source": []
  },
  {
   "cell_type": "code",
   "execution_count": null,
   "id": "f5bed266-e745-4eff-ab86-391bc7f230e9",
   "metadata": {},
   "outputs": [],
   "source": []
  },
  {
   "cell_type": "code",
   "execution_count": null,
   "id": "4ec0a1f2-0cd3-4099-9ea0-1bb6f54d384c",
   "metadata": {},
   "outputs": [],
   "source": []
  },
  {
   "cell_type": "code",
   "execution_count": 3,
   "id": "ef793cc1-830a-4f41-8bc3-e356ba54f274",
   "metadata": {},
   "outputs": [
    {
     "name": "stdout",
     "output_type": "stream",
     "text": [
      "False\n",
      "False\n"
     ]
    }
   ],
   "source": [
    "width = win32api.GetSystemMetrics(0)\n",
    "height = win32api.GetSystemMetrics(1)\n",
    "midWidth = int((width + 1) / 2)\n",
    "midHeight = int((height + 1) / 2)\n",
    "\n",
    "\n",
    "\"\"\"\n",
    "dc = win32gui.GetDC(0)\n",
    "dcObj = win32ui.CreateDCFromHandle(dc)\n",
    "hwnd = win32gui.WindowFromPoint((0,0))\n",
    "\"\"\"\n",
    "rect = (0, 0, width, height)\n",
    "window = (0, 0, width, height)\n",
    "\n",
    "\n",
    "app = wx.App(False)\n",
    "s = wx.ScreenDC()\n",
    "s.Pen = wx.Pen(wx.Colour(0,0,0,255),style=wx.TRANSPARENT)\n",
    "s.StartDrawingOnTop()\n",
    "\n",
    "\n",
    "\n",
    "state_left = isPressed(win32con.VK_LBUTTON)\n",
    "state_ctrl = isPressed(win32con.VK_CONTROL)\n",
    "print(state_left)\n",
    "print(state_ctrl)\n",
    "\n",
    "isHolding = False\n",
    "\n",
    "posStart = win32gui.GetCursorPos()\n",
    "posEnd = win32gui.GetCursorPos()\n",
    "\n",
    "brush = CreateBrush()\n",
    "brush.CreateSolidBrush(win32api.GetSysColor(255))\n",
    "\n"
   ]
  },
  {
   "cell_type": "code",
   "execution_count": 3,
   "id": "82c42aad-4eed-4b37-9599-4c8fe0fb5fc3",
   "metadata": {},
   "outputs": [],
   "source": [
    "class DrawPanel(wx.Panel):\n",
    "    \n",
    "    def __init__(self, *args, **kw):\n",
    "        super().__init__(*args, **kw)\n",
    "        \n",
    "        self.Bind(wx.EVT_PAINT, self.on_paint)\n",
    "        self.Bind(wx.EVT_MOTION, self.on_mouse_motion)\n",
    "        \n",
    "    def on_mouse_motion(self, event):\n",
    "        self.Parent.Refresh()\n",
    "        \n",
    "    def on_paint(self, event):\n",
    "        self.dc = wx.PaintDC(self)\n",
    "        #self.dc.DrawRectangle(rect)\n",
    "        self.dc.DrawRectangle(0,0,100,100)"
   ]
  },
  {
   "cell_type": "code",
   "execution_count": 4,
   "id": "3a81d55e-34b8-4353-b2dc-70c9d9863ad6",
   "metadata": {},
   "outputs": [
    {
     "name": "stdout",
     "output_type": "stream",
     "text": [
      "Left Button + Ctrl Pressed\n",
      "Left Button + Ctrl Released\n",
      "Left Button + Ctrl Pressed\n",
      "Left Button + Ctrl Released\n",
      "Left Button + Ctrl Pressed\n",
      "Left Button + Ctrl Released\n"
     ]
    },
    {
     "ename": "KeyboardInterrupt",
     "evalue": "",
     "output_type": "error",
     "traceback": [
      "\u001b[1;31m---------------------------------------------------------------------------\u001b[0m",
      "\u001b[1;31mKeyboardInterrupt\u001b[0m                         Traceback (most recent call last)",
      "Input \u001b[1;32mIn [4]\u001b[0m, in \u001b[0;36m<cell line: 2>\u001b[1;34m()\u001b[0m\n\u001b[0;32m     39\u001b[0m     \u001b[38;5;66;03m#app.Update()\u001b[39;00m\n\u001b[0;32m     42\u001b[0m     rect \u001b[38;5;241m=\u001b[39m (posStart[\u001b[38;5;241m0\u001b[39m], posStart[\u001b[38;5;241m1\u001b[39m], posEnd[\u001b[38;5;241m0\u001b[39m]\u001b[38;5;241m-\u001b[39mposStart[\u001b[38;5;241m0\u001b[39m], posEnd[\u001b[38;5;241m1\u001b[39m]\u001b[38;5;241m-\u001b[39mposStart[\u001b[38;5;241m1\u001b[39m])\n\u001b[1;32m---> 44\u001b[0m \u001b[43mtime\u001b[49m\u001b[38;5;241;43m.\u001b[39;49m\u001b[43msleep\u001b[49m\u001b[43m(\u001b[49m\u001b[38;5;241;43m0.01\u001b[39;49m\u001b[43m)\u001b[49m\n",
      "\u001b[1;31mKeyboardInterrupt\u001b[0m: "
     ]
    }
   ],
   "source": [
    "\n",
    "while True:\n",
    "    a = isPressed(win32con.VK_LBUTTON)\n",
    "    state_ctrl = state_ctrl if state_left else isPressed(win32con.VK_CONTROL)\n",
    "    \n",
    "    if (a != state_left): # Button state changed\n",
    "        state_left = a\n",
    "        if state_ctrl:\n",
    "            \n",
    "            if a:\n",
    "                isHolding = True\n",
    "                posStart = win32gui.GetCursorPos()\n",
    "                posEnd = win32gui.GetCursorPos()\n",
    "                #hwnd = win32gui.WindowFromPoint((0,0))\n",
    "                print('Left Button + Ctrl Pressed')\n",
    "                \n",
    "                \n",
    "            else:\n",
    "                isHolding = False\n",
    "                posEnd = win32gui.GetCursorPos()\n",
    "                print('Left Button + Ctrl Released')\n",
    "                \n",
    "                s.Clear()\n",
    "                \n",
    "                #win32gui.InvalidateRect(hwnd, window, False)\n",
    "                #win32api.SetCursorPos((midWidth, midHeight))\n",
    "        \n",
    "    if isHolding:\n",
    "        posEnd = win32gui.GetCursorPos()\n",
    "        \"\"\"\n",
    "        win32gui.RedrawWindow(hwnd, None, None, win32con.RDW_INVALIDATE | win32con.RDW_ERASE)\n",
    "        win32gui.UpdateWindow(hwnd)\n",
    "        rect = (posStart[0], posStart[1], posEnd[0], posEnd[1])\n",
    "        dcObj.FrameRect(rect,brush)\n",
    "        \"\"\"\n",
    "        \n",
    "        \n",
    "        \n",
    "        rect = (posStart[0], posStart[1], posEnd[0]-posStart[0], posEnd[1]-posStart[1])\n",
    "        s.DrawRectangle(rect)\n",
    "        s.Refresh()\n",
    "        #app.Update()\n",
    "        \n",
    "        \n",
    "        rect = (posStart[0], posStart[1], posEnd[0]-posStart[0], posEnd[1]-posStart[1])\n",
    "    \n",
    "    time.sleep(0.01)\n",
    "s.EndDrawingOnTop()"
   ]
  },
  {
   "cell_type": "code",
   "execution_count": null,
   "id": "ebecc4db-cce8-4504-9db9-9797b978a8db",
   "metadata": {},
   "outputs": [],
   "source": []
  },
  {
   "cell_type": "code",
   "execution_count": null,
   "id": "59d2e4e2-7c1d-4d73-93e3-84fde83b1da6",
   "metadata": {},
   "outputs": [],
   "source": []
  },
  {
   "cell_type": "code",
   "execution_count": null,
   "id": "e1924cd1-73d2-47ba-a105-b2ff25ad4e04",
   "metadata": {},
   "outputs": [],
   "source": []
  }
 ],
 "metadata": {
  "kernelspec": {
   "display_name": "Python 3 (ipykernel)",
   "language": "python",
   "name": "python3"
  },
  "language_info": {
   "codemirror_mode": {
    "name": "ipython",
    "version": 3
   },
   "file_extension": ".py",
   "mimetype": "text/x-python",
   "name": "python",
   "nbconvert_exporter": "python",
   "pygments_lexer": "ipython3",
   "version": "3.9.10"
  }
 },
 "nbformat": 4,
 "nbformat_minor": 5
}
